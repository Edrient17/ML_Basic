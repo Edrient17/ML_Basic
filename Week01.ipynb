{
 "cells": [
  {
   "cell_type": "markdown",
   "metadata": {
    "id": "1itNH3kUrsPR"
   },
   "source": [
    "# Week01 : Python Programming Basics"
   ]
  },
  {
   "cell_type": "markdown",
   "metadata": {
    "id": "IOuY9D2ursPS"
   },
   "source": [
    "- **Student ID** :\n",
    "- **Name** :"
   ]
  },
  {
   "cell_type": "markdown",
   "metadata": {
    "id": "sxgE3f0trsPT"
   },
   "source": [
    "- Write and run the code below (including Quiz) in jupyter notebook\n",
    "- After completion, rename the file, and summit the file to e-class\n",
    "- Submit file name : **“Week01_\\<StudentID\\>_\\<Name\\>.ipynb”**\n",
    "  - Ex) Week01\\_2023123456\\_홍길동.ipynb\n",
    "- Due : **Saturday 11:59pm**"
   ]
  },
  {
   "cell_type": "markdown",
   "metadata": {
    "id": "ePGkXC6WrsPT"
   },
   "source": [
    "# Markdown\n",
    "- When you select 'Markdown', you can edit the contents using Markdown language. Then run the cell\n",
    "- You can double click the Markdown cell to edit the contents\n",
    "- Try double click this cell !"
   ]
  },
  {
   "cell_type": "markdown",
   "metadata": {
    "id": "m1gFkyqKrsPT"
   },
   "source": [
    "---"
   ]
  },
  {
   "cell_type": "markdown",
   "metadata": {
    "id": "o5H3oNMPrsPT"
   },
   "source": [
    "# Comments\n",
    "- Some sentences to explain the codes\n",
    "- Comments are not included in the codes"
   ]
  },
  {
   "cell_type": "code",
   "execution_count": null,
   "metadata": {
    "id": "5oWwTzOErsPT",
    "outputId": "8008b877-c2f4-42cd-8159-bd31168af19b"
   },
   "outputs": [
    {
     "name": "stdout",
     "output_type": "stream",
     "text": [
      "hello\n"
     ]
    }
   ],
   "source": [
    "# Type Comments\n",
    "# This is a comment in Python\n",
    "\n",
    "# print a string\n",
    "print(\"hello\")"
   ]
  },
  {
   "cell_type": "markdown",
   "metadata": {
    "id": "xA8zeGzPrsPU"
   },
   "source": [
    "---"
   ]
  },
  {
   "cell_type": "markdown",
   "metadata": {
    "id": "e61gVJXMrsPV"
   },
   "source": [
    "# Constants\n",
    "* **Fixed values**(unchangeable numbers, strings etc)\n",
    "* **Datatypes**"
   ]
  },
  {
   "cell_type": "markdown",
   "metadata": {
    "id": "j6VmrUVDrsPV"
   },
   "source": [
    "**1. Numbers**\n",
    "   - Integer: -2, 0, 100\n",
    "   - Real numbers: -2.5, 0.0, 99.9"
   ]
  },
  {
   "cell_type": "code",
   "execution_count": null,
   "metadata": {
    "id": "87UicwYursPV",
    "outputId": "5df62f4d-36cd-4edd-bc46-8545bcbd5e20"
   },
   "outputs": [
    {
     "data": {
      "text/plain": [
       "3"
      ]
     },
     "execution_count": 11,
     "metadata": {},
     "output_type": "execute_result"
    }
   ],
   "source": [
    "# run 1 + 2\n",
    "1+2"
   ]
  },
  {
   "cell_type": "code",
   "execution_count": null,
   "metadata": {
    "id": "4ZvSy67OrsPV",
    "jupyter": {
     "outputs_hidden": false
    },
    "outputId": "b9a7c35b-2282-458a-875c-9710196890b6"
   },
   "outputs": [
    {
     "name": "stdout",
     "output_type": "stream",
     "text": [
      "3\n",
      "0.3333333333333333\n"
     ]
    }
   ],
   "source": [
    "# print the output of 1 + 2\n",
    "print(1+2)\n",
    "\n",
    "# print the output of 1.0 / 3.0\n",
    "print(1.0/3.0)"
   ]
  },
  {
   "cell_type": "markdown",
   "metadata": {
    "id": "BXZRddjgrsPV"
   },
   "source": [
    "**2. String**  \n",
    "  - Single/double quotation marks(' or \")\n",
    "  - ‘hello’, “hello”"
   ]
  },
  {
   "cell_type": "code",
   "execution_count": null,
   "metadata": {
    "id": "yOGCR9wrrsPV",
    "jupyter": {
     "outputs_hidden": false
    },
    "outputId": "0148d260-7b40-4312-a617-fddc6829c32d"
   },
   "outputs": [
    {
     "name": "stdout",
     "output_type": "stream",
     "text": [
      "Machine Learning\n"
     ]
    }
   ],
   "source": [
    "# print two strings 'Machine' and 'Learning'\n",
    "print('Machine', 'Learning')"
   ]
  },
  {
   "cell_type": "markdown",
   "metadata": {
    "id": "mU4v9AXirsPW"
   },
   "source": [
    "**3. Logical**  \n",
    "  - True, False"
   ]
  },
  {
   "cell_type": "code",
   "execution_count": null,
   "metadata": {
    "id": "k238qLXTrsPW",
    "outputId": "09224c5a-e1c8-4b02-c285-6eed1edfb86b"
   },
   "outputs": [
    {
     "name": "stdout",
     "output_type": "stream",
     "text": [
      "True False\n"
     ]
    }
   ],
   "source": [
    "# print two boolean values True and False\n",
    "print(True, False) # Boolean"
   ]
  },
  {
   "cell_type": "markdown",
   "metadata": {
    "id": "VVL04VmlrsPW"
   },
   "source": [
    "**4. Special**\n",
    "  - None"
   ]
  },
  {
   "cell_type": "code",
   "execution_count": null,
   "metadata": {
    "id": "95p87leWrsPW",
    "jupyter": {
     "outputs_hidden": false
    },
    "outputId": "ac7f0a01-c452-405a-8020-c83771c82a3b",
    "scrolled": true
   },
   "outputs": [
    {
     "name": "stdout",
     "output_type": "stream",
     "text": [
      "None\n"
     ]
    }
   ],
   "source": [
    "# print special value None\n",
    "print(None)"
   ]
  },
  {
   "cell_type": "markdown",
   "metadata": {
    "id": "zCKHhXnHrsPW"
   },
   "source": [
    "* **Data Type Check : type()**"
   ]
  },
  {
   "cell_type": "code",
   "execution_count": null,
   "metadata": {
    "id": "njGSFtz3rsPW",
    "outputId": "6580b04d-c026-4619-f106-813f0b9cb057"
   },
   "outputs": [
    {
     "data": {
      "text/plain": [
       "int"
      ]
     },
     "execution_count": 9,
     "metadata": {},
     "output_type": "execute_result"
    }
   ],
   "source": [
    "# check the data type of an integer 100\n",
    "type(100)"
   ]
  },
  {
   "cell_type": "code",
   "execution_count": null,
   "metadata": {
    "id": "ZOesKGxXrsPW",
    "outputId": "117f461c-1c8f-46b6-baba-57c5c2b1aec0"
   },
   "outputs": [
    {
     "data": {
      "text/plain": [
       "str"
      ]
     },
     "execution_count": 12,
     "metadata": {},
     "output_type": "execute_result"
    }
   ],
   "source": [
    "# check the data type of a string 'Machine Learning'\n",
    "type('Machine Learning')"
   ]
  },
  {
   "cell_type": "markdown",
   "metadata": {
    "id": "cBBxQTQjrsPW"
   },
   "source": [
    "- **Dynamic Typing**"
   ]
  },
  {
   "cell_type": "code",
   "execution_count": null,
   "metadata": {
    "id": "tXfFrahXrsPX",
    "outputId": "cec961a2-cd20-4cd1-c23b-5ef9115b70ba"
   },
   "outputs": [
    {
     "data": {
      "text/plain": [
       "float"
      ]
     },
     "execution_count": 9,
     "metadata": {},
     "output_type": "execute_result"
    }
   ],
   "source": [
    "# add an integer 10 and a float number 0.1 and check their type\n",
    "type(10 + 0.1)"
   ]
  },
  {
   "cell_type": "markdown",
   "metadata": {
    "id": "UMn_AKwXrsPX"
   },
   "source": [
    "* **Casting**"
   ]
  },
  {
   "cell_type": "code",
   "execution_count": null,
   "metadata": {
    "id": "3HJdBc82rsPX",
    "outputId": "7e1b6dae-af9c-44e9-e807-efad9f67b113"
   },
   "outputs": [
    {
     "data": {
      "text/plain": [
       "10"
      ]
     },
     "execution_count": 10,
     "metadata": {},
     "output_type": "execute_result"
    }
   ],
   "source": [
    "# cast a float number 10.4 to an integers\n",
    "int(10.4)"
   ]
  },
  {
   "cell_type": "markdown",
   "metadata": {
    "id": "zopDeV4PrsPX"
   },
   "source": [
    "---"
   ]
  },
  {
   "cell_type": "markdown",
   "metadata": {
    "id": "X9Y1SHCfrsPX"
   },
   "source": [
    "# Variables\n",
    "- **Named memory to store values**\n",
    "  - Name consist of alpha-numeric characters and underscores (A-z, 0-9, and _ )\n",
    "  - Name cannot start with a number"
   ]
  },
  {
   "cell_type": "code",
   "execution_count": null,
   "metadata": {
    "id": "jMySyxGErsPX",
    "jupyter": {
     "outputs_hidden": false
    },
    "outputId": "02286b50-6438-4c24-dedf-2a1eefc9477b"
   },
   "outputs": [
    {
     "name": "stdout",
     "output_type": "stream",
     "text": [
      "50\n"
     ]
    },
    {
     "data": {
      "text/plain": [
       "int"
      ]
     },
     "execution_count": 13,
     "metadata": {},
     "output_type": "execute_result"
    }
   ],
   "source": [
    "x = 20\n",
    "y = 30\n",
    "z = x + y\n",
    "\n",
    "# print z\n",
    "print(z)\n",
    "\n",
    "# check the data type of z\n",
    "type(z)"
   ]
  },
  {
   "cell_type": "code",
   "execution_count": null,
   "metadata": {
    "id": "xzdiHlAUrsPX",
    "outputId": "9a40a93c-996a-4fd0-fef7-9dabb765766d"
   },
   "outputs": [
    {
     "name": "stdout",
     "output_type": "stream",
     "text": [
      "Hello world!\n"
     ]
    },
    {
     "data": {
      "text/plain": [
       "str"
      ]
     },
     "execution_count": 15,
     "metadata": {},
     "output_type": "execute_result"
    }
   ],
   "source": [
    "s1 = \"Hello \"\n",
    "s2 = \"world!\"\n",
    "\n",
    "# print s1 + s2\n",
    "print(s1 + s2)\n",
    "\n",
    "# check the data type of s1 + s2\n",
    "type(s1 + s2)"
   ]
  },
  {
   "cell_type": "markdown",
   "metadata": {
    "id": "oaet1eRHrsPY"
   },
   "source": [
    "* **Basic opeartion of string**"
   ]
  },
  {
   "cell_type": "code",
   "execution_count": null,
   "metadata": {
    "id": "bJNynS1OrsPY",
    "outputId": "3bd501c1-cc8b-4fd9-dfc4-45732a4cff80"
   },
   "outputs": [
    {
     "name": "stdout",
     "output_type": "stream",
     "text": [
      "====================\n"
     ]
    }
   ],
   "source": [
    "# print \"====================\" using string multiplication\n",
    "line = \"====================\"\n",
    "print(line)"
   ]
  },
  {
   "cell_type": "code",
   "execution_count": null,
   "metadata": {
    "id": "QurZl02RrsPY",
    "outputId": "f3ec51fd-9c28-44e4-b8ab-a7fe5f4fa3e4"
   },
   "outputs": [
    {
     "name": "stdout",
     "output_type": "stream",
     "text": [
      "16\n"
     ]
    }
   ],
   "source": [
    "# use len() to get the length of the string ml\n",
    "print(len('machine learning'))"
   ]
  },
  {
   "cell_type": "markdown",
   "metadata": {
    "id": "fK4HLYdkrsPY"
   },
   "source": [
    "---"
   ]
  },
  {
   "cell_type": "markdown",
   "metadata": {
    "id": "SBB6-8PkrsPY"
   },
   "source": [
    "# Conditional Statements\n",
    "\n",
    "* **If**  \n",
    "  - If statement is control flow statements which helps us to run a particular code only when a certain condition is satisfied.\n",
    "\n",
    "\n",
    ">**Note**\n",
    ">- In Python, **blocks are marked as indentations** in functions, iteration statements and conditional statements, etc.\n",
    ">- It is strongly recommended that **you do not use the tab** (system-specific but high probability output an error). The PEP-8 is the official coding guide recommends **four spaces with space bar**. However, various IDEs such as Jupyter lab, Pycham, and others automatically do identation."
   ]
  },
  {
   "cell_type": "code",
   "execution_count": null,
   "metadata": {
    "colab": {
     "base_uri": "https://localhost:8080/"
    },
    "executionInfo": {
     "elapsed": 2239,
     "status": "ok",
     "timestamp": 1741369066955,
     "user": {
      "displayName": "Jeongwoo Noh",
      "userId": "12349239094860728139"
     },
     "user_tz": -540
    },
    "id": "9S6BbyVHrsPY",
    "outputId": "6fc08fd2-820e-40f0-b355-adfcd8a9ff8d"
   },
   "outputs": [
    {
     "name": "stdout",
     "output_type": "stream",
     "text": [
      "20\n",
      "medium\n"
     ]
    }
   ],
   "source": [
    "# convert user input to integer\n",
    "x = int(input())\n",
    "\n",
    "# check the conditions of x\n",
    "# if x < 10, print 'small'\n",
    "# else if x < 100, print 'medium'\n",
    "# else (100 <= x), print 'large'\n",
    "\n",
    "if x < 10:\n",
    "    print('small')\n",
    "elif x < 100:\n",
    "    print('medium')\n",
    "else:\n",
    "    print('large')"
   ]
  },
  {
   "cell_type": "markdown",
   "metadata": {
    "id": "T_mi82kSrsPY"
   },
   "source": [
    "* **Boolean Operator**"
   ]
  },
  {
   "cell_type": "markdown",
   "metadata": {
    "id": "IrL2yGzmrsPY"
   },
   "source": [
    "**1. and (&)**"
   ]
  },
  {
   "cell_type": "code",
   "execution_count": null,
   "metadata": {
    "colab": {
     "base_uri": "https://localhost:8080/"
    },
    "executionInfo": {
     "elapsed": 28,
     "status": "ok",
     "timestamp": 1741369123486,
     "user": {
      "displayName": "Jeongwoo Noh",
      "userId": "12349239094860728139"
     },
     "user_tz": -540
    },
    "id": "r-6YgMAwrsPY",
    "outputId": "35b4d050-6128-4009-fd0a-43dd7240ca0e"
   },
   "outputs": [
    {
     "data": {
      "text/plain": [
       "False"
      ]
     },
     "execution_count": 3,
     "metadata": {},
     "output_type": "execute_result"
    }
   ],
   "source": [
    "# use and to compare two conditions\n",
    "(1 == 1) and (1 == 0)"
   ]
  },
  {
   "cell_type": "markdown",
   "metadata": {
    "id": "IWCIf4gMrsPY"
   },
   "source": [
    "**2. or(|)**"
   ]
  },
  {
   "cell_type": "code",
   "execution_count": null,
   "metadata": {
    "colab": {
     "base_uri": "https://localhost:8080/"
    },
    "executionInfo": {
     "elapsed": 20,
     "status": "ok",
     "timestamp": 1741369188097,
     "user": {
      "displayName": "Jeongwoo Noh",
      "userId": "12349239094860728139"
     },
     "user_tz": -540
    },
    "id": "edukqxTIrsPZ",
    "outputId": "2d62b4fb-2a29-401b-925b-3e8f0302f448"
   },
   "outputs": [
    {
     "data": {
      "text/plain": [
       "True"
      ]
     },
     "execution_count": 4,
     "metadata": {},
     "output_type": "execute_result"
    }
   ],
   "source": [
    "# use or to compare two conditions\n",
    "(1 == 1) or (1 == 0)"
   ]
  },
  {
   "cell_type": "markdown",
   "metadata": {
    "id": "xNCNnXGjrsPZ"
   },
   "source": [
    "**3. not**"
   ]
  },
  {
   "cell_type": "code",
   "execution_count": null,
   "metadata": {
    "colab": {
     "base_uri": "https://localhost:8080/"
    },
    "executionInfo": {
     "elapsed": 19,
     "status": "ok",
     "timestamp": 1741369194811,
     "user": {
      "displayName": "Jeongwoo Noh",
      "userId": "12349239094860728139"
     },
     "user_tz": -540
    },
    "id": "8Lr9LYkQrsPZ",
    "outputId": "0a0f8bea-032f-4823-95c1-c82d1bd394d8"
   },
   "outputs": [
    {
     "data": {
      "text/plain": [
       "True"
      ]
     },
     "execution_count": 5,
     "metadata": {},
     "output_type": "execute_result"
    }
   ],
   "source": [
    "# use not to negate a condition\n",
    "not (1 == 0)"
   ]
  },
  {
   "cell_type": "markdown",
   "metadata": {
    "id": "YeKANhnvrsPa"
   },
   "source": [
    "---"
   ]
  },
  {
   "cell_type": "markdown",
   "metadata": {
    "id": "mufPKmdprsPa"
   },
   "source": [
    "# Iteration Statements"
   ]
  },
  {
   "cell_type": "markdown",
   "metadata": {
    "id": "pzbKw4HjrsPa"
   },
   "source": [
    "## while\n",
    "  - The while statement enables the execution of a body of statements multiple times in a loop while a certain condition is true."
   ]
  },
  {
   "cell_type": "code",
   "execution_count": null,
   "metadata": {
    "colab": {
     "base_uri": "https://localhost:8080/"
    },
    "executionInfo": {
     "elapsed": 8,
     "status": "ok",
     "timestamp": 1741369244166,
     "user": {
      "displayName": "Jeongwoo Noh",
      "userId": "12349239094860728139"
     },
     "user_tz": -540
    },
    "id": "HFbGdejWrsPa",
    "jupyter": {
     "outputs_hidden": false
    },
    "outputId": "cfbd2fb2-4916-4c58-dad7-8ff7e2dc4951"
   },
   "outputs": [
    {
     "name": "stdout",
     "output_type": "stream",
     "text": [
      "5\n",
      "4\n",
      "3\n",
      "2\n",
      "1\n"
     ]
    }
   ],
   "source": [
    "# while statement\n",
    "# print n from 5 to 1 using while n > 0\n",
    "\n",
    "n = 5\n",
    "while n > 0:\n",
    "    print(n)\n",
    "    n -= 1"
   ]
  },
  {
   "cell_type": "code",
   "execution_count": null,
   "metadata": {
    "colab": {
     "base_uri": "https://localhost:8080/"
    },
    "executionInfo": {
     "elapsed": 17,
     "status": "ok",
     "timestamp": 1741369315978,
     "user": {
      "displayName": "Jeongwoo Noh",
      "userId": "12349239094860728139"
     },
     "user_tz": -540
    },
    "id": "fVQRfBxMrsPa",
    "jupyter": {
     "outputs_hidden": false
    },
    "outputId": "803935f4-220f-4da2-fbd6-16bc184bed0d"
   },
   "outputs": [
    {
     "name": "stdout",
     "output_type": "stream",
     "text": [
      "5\n",
      "4\n",
      "3\n",
      "2\n",
      "1\n"
     ]
    }
   ],
   "source": [
    "# infinite Loop with break statement\n",
    "# print n from 5 to 1 using while True and break if n <= 0\n",
    "\n",
    "n = 5\n",
    "while True:\n",
    "    if n <= 0:\n",
    "        break\n",
    "    print(n)\n",
    "    n -= 1"
   ]
  },
  {
   "cell_type": "markdown",
   "metadata": {
    "id": "i9fsZ3ZErsPa"
   },
   "source": [
    "## for\n",
    "- for statement iterates over the items of any sequence (a list or a string), in the order that they appear in the sequence.\n",
    "- **list** : a compound data types like an array in C (will be addressed)"
   ]
  },
  {
   "cell_type": "code",
   "execution_count": 2,
   "metadata": {
    "colab": {
     "base_uri": "https://localhost:8080/"
    },
    "executionInfo": {
     "elapsed": 29,
     "status": "ok",
     "timestamp": 1741424825401,
     "user": {
      "displayName": "Jeongwoo Noh",
      "userId": "12349239094860728139"
     },
     "user_tz": -540
    },
    "id": "O39rgnp_rsPa",
    "jupyter": {
     "outputs_hidden": false
    },
    "outputId": "59f164df-a8cf-4ef5-a77c-1020b6880b51"
   },
   "outputs": [
    {
     "name": "stdout",
     "output_type": "stream",
     "text": [
      "55\n"
     ]
    }
   ],
   "source": [
    "# sum of all numbers from 1 to 10\n",
    "total = 0\n",
    "mylist = [1,2,3,4,5,6,7,8,9,10]\n",
    "\n",
    "# use for loop to sum all numbers in mylist\n",
    "for i in mylist:\n",
    "    total = total + i\n",
    "\n",
    "print(total)"
   ]
  },
  {
   "cell_type": "markdown",
   "metadata": {
    "id": "vK6ohbiMrsPb"
   },
   "source": [
    "- **range(n)** : it returns a list of the numbers that consists 0 to n-1\n"
   ]
  },
  {
   "cell_type": "code",
   "execution_count": 3,
   "metadata": {
    "colab": {
     "base_uri": "https://localhost:8080/"
    },
    "executionInfo": {
     "elapsed": 41,
     "status": "ok",
     "timestamp": 1741424853843,
     "user": {
      "displayName": "Jeongwoo Noh",
      "userId": "12349239094860728139"
     },
     "user_tz": -540
    },
    "id": "GulXH37irsPb",
    "jupyter": {
     "outputs_hidden": false
    },
    "outputId": "f03ff090-7656-4cb1-9647-7569c547e9e1"
   },
   "outputs": [
    {
     "name": "stdout",
     "output_type": "stream",
     "text": [
      "45\n"
     ]
    }
   ],
   "source": [
    "# sum of all numbers from 0 to 9\n",
    "total = 0\n",
    "\n",
    "# use range() to get a list of numbers\n",
    "for i in range(10):\n",
    "    total = total + i\n",
    "\n",
    "print(total)"
   ]
  },
  {
   "cell_type": "markdown",
   "metadata": {
    "id": "r_2y9vQ9rsPb"
   },
   "source": [
    "---"
   ]
  },
  {
   "cell_type": "markdown",
   "metadata": {
    "id": "ItJC-HkdrsPb"
   },
   "source": [
    "# Function\n",
    "- **A named section of a program that performs a specific task. It can takes some parameters. It is reusable code**\n",
    "  - **Built-in function(refer to the link below)**\n",
    "    - print(), input(), ...\n",
    "    - https://docs.python.org/3/library/functions.html\n",
    "  - **User-defined function**\n",
    "    > ```python\n",
    "    def function_name(arg_1, arg_2, …) :\n",
    "         # algorithms\n",
    "         return something\n",
    "  ```"
   ]
  },
  {
   "cell_type": "code",
   "execution_count": 4,
   "metadata": {
    "colab": {
     "base_uri": "https://localhost:8080/"
    },
    "executionInfo": {
     "elapsed": 4385,
     "status": "ok",
     "timestamp": 1741425119365,
     "user": {
      "displayName": "Jeongwoo Noh",
      "userId": "12349239094860728139"
     },
     "user_tz": -540
    },
    "id": "ddUIDsfZrsPb",
    "jupyter": {
     "outputs_hidden": false
    },
    "outputId": "e3d0cfe1-d4c8-4c91-fe71-2709a993b8e8"
   },
   "outputs": [
    {
     "name": "stdout",
     "output_type": "stream",
     "text": [
      "Input km : 42\n",
      "It is 26.25 mile\n"
     ]
    }
   ],
   "source": [
    "# function to convert km to mile\n",
    "def km_to_mile(km):\n",
    "    mile = km / 1.6        # 1 mile == 1.6 km\n",
    "    return mile\n",
    "\n",
    "# get input and cast to float\n",
    "km = float(input('Input km : '))\n",
    "\n",
    "# convert km to mile by calling the function\n",
    "mile = km_to_mile(km)\n",
    "\n",
    "print('It is', mile, 'mile')"
   ]
  },
  {
   "cell_type": "markdown",
   "metadata": {
    "id": "M9XfCnbzrsPb"
   },
   "source": [
    "---"
   ]
  },
  {
   "cell_type": "markdown",
   "metadata": {
    "id": "mCVIWSIlrsPb"
   },
   "source": [
    "# Container : List, Dict, Tuple, Set"
   ]
  },
  {
   "cell_type": "markdown",
   "metadata": {
    "id": "kM0sB9TRrsPb"
   },
   "source": [
    "* **Container**\n",
    "  - Data structure for storing variables\n",
    "* **In python there are four data structures - lists, dict, tuple, and set**\n",
    "   - **list          [ , ]**\n",
    "   - **dict         { , }**\n",
    "   - **tuple      ( , )**\n",
    "   - **set          { , }**\n",
    "- When programming in python, it is important to understand the characteristics of the four containers and write the appropriate data structures for your situation"
   ]
  },
  {
   "cell_type": "markdown",
   "metadata": {
    "id": "uTC25340rsPb"
   },
   "source": [
    "---"
   ]
  },
  {
   "cell_type": "markdown",
   "metadata": {
    "id": "gt11FBx0rsPc"
   },
   "source": [
    "## List\n",
    "- **A list is a data structure that stores ordered sequence of items**\n",
    "  - It can be initialized as **[item1, item2, …]**\n",
    "  - It can be initialized by the function **‘list()’** and then append new item by the function **‘list.append(item)’**"
   ]
  },
  {
   "cell_type": "code",
   "execution_count": 7,
   "metadata": {
    "colab": {
     "base_uri": "https://localhost:8080/"
    },
    "executionInfo": {
     "elapsed": 19,
     "status": "ok",
     "timestamp": 1741425179197,
     "user": {
      "displayName": "Jeongwoo Noh",
      "userId": "12349239094860728139"
     },
     "user_tz": -540
    },
    "id": "0_sRZCQArsPc",
    "jupyter": {
     "outputs_hidden": false
    },
    "outputId": "fd2e165e-51d2-4133-814c-a5209145aab0"
   },
   "outputs": [
    {
     "data": {
      "text/plain": [
       "['apple', 'banana', 'orange']"
      ]
     },
     "execution_count": 7,
     "metadata": {},
     "output_type": "execute_result"
    }
   ],
   "source": [
    "# make the list named 'fruits', [ \"apple\", \"banana\", \"orange\" ]\n",
    "fruits = [ \"apple\", \"banana\", \"orange\" ]\n",
    "fruits"
   ]
  },
  {
   "cell_type": "code",
   "execution_count": 8,
   "metadata": {
    "colab": {
     "base_uri": "https://localhost:8080/"
    },
    "executionInfo": {
     "elapsed": 19,
     "status": "ok",
     "timestamp": 1741425181028,
     "user": {
      "displayName": "Jeongwoo Noh",
      "userId": "12349239094860728139"
     },
     "user_tz": -540
    },
    "id": "j1-POwT0rsPc",
    "outputId": "bcee224b-e494-489c-b6aa-df2d3c43811a"
   },
   "outputs": [
    {
     "data": {
      "text/plain": [
       "['apple', 'banana', 'orange', 'kiwi']"
      ]
     },
     "execution_count": 8,
     "metadata": {},
     "output_type": "execute_result"
    }
   ],
   "source": [
    "# append 'kiwi' to the list 'fruits'\n",
    "fruits.append('kiwi')\n",
    "fruits"
   ]
  },
  {
   "cell_type": "code",
   "execution_count": 9,
   "metadata": {
    "colab": {
     "base_uri": "https://localhost:8080/",
     "height": 35
    },
    "executionInfo": {
     "elapsed": 23,
     "status": "ok",
     "timestamp": 1741425183233,
     "user": {
      "displayName": "Jeongwoo Noh",
      "userId": "12349239094860728139"
     },
     "user_tz": -540
    },
    "id": "M61od8GersPc",
    "jupyter": {
     "outputs_hidden": false
    },
    "outputId": "7c297c69-ee5e-4e74-d68b-e34199f90bfe"
   },
   "outputs": [
    {
     "data": {
      "application/vnd.google.colaboratory.intrinsic+json": {
       "type": "string"
      },
      "text/plain": [
       "'apple'"
      ]
     },
     "execution_count": 9,
     "metadata": {},
     "output_type": "execute_result"
    }
   ],
   "source": [
    "# print the first element of list 'fruits'\n",
    "fruits[0]"
   ]
  },
  {
   "cell_type": "markdown",
   "metadata": {
    "id": "304Ah5uRrsPc"
   },
   "source": [
    "- **Index of list**\n",
    "  - n:m : it means from 'n' to 'm-1'"
   ]
  },
  {
   "cell_type": "code",
   "execution_count": 11,
   "metadata": {
    "colab": {
     "base_uri": "https://localhost:8080/"
    },
    "executionInfo": {
     "elapsed": 14,
     "status": "ok",
     "timestamp": 1741425311560,
     "user": {
      "displayName": "Jeongwoo Noh",
      "userId": "12349239094860728139"
     },
     "user_tz": -540
    },
    "id": "1WfALTyGrsPc",
    "outputId": "1f298add-f5fd-418f-f149-801450c436c1"
   },
   "outputs": [
    {
     "name": "stdout",
     "output_type": "stream",
     "text": [
      "20\n",
      "50\n",
      "[20, 30]\n",
      "[10, 20, 30]\n",
      "[40, 50]\n"
     ]
    }
   ],
   "source": [
    "# Indexing & Slicing (1)\n",
    "mylist = [10, 20, 30, 40, 50 ]\n",
    "\n",
    "# print index 1 element of the list\n",
    "print(mylist[1])\n",
    "\n",
    "# print last element of the list using index '-1'\n",
    "print(mylist[-1])\n",
    "\n",
    "# print index 1 to index 2 of the list\n",
    "print(mylist[1:3])\n",
    "\n",
    "# print start to index 2 of the list\n",
    "print(mylist[:3])\n",
    "\n",
    "# print index 3 to end of the list\n",
    "print(mylist[3:])"
   ]
  },
  {
   "cell_type": "markdown",
   "metadata": {
    "id": "XFBj12VGrsPc"
   },
   "source": [
    "* **Functions with the list as a parameter and methods of the list**\n",
    " - Find other functions : https://docs.python.org/3/tutorial/datastructures.html"
   ]
  },
  {
   "cell_type": "code",
   "execution_count": 12,
   "metadata": {
    "colab": {
     "base_uri": "https://localhost:8080/"
    },
    "executionInfo": {
     "elapsed": 19,
     "status": "ok",
     "timestamp": 1741425363852,
     "user": {
      "displayName": "Jeongwoo Noh",
      "userId": "12349239094860728139"
     },
     "user_tz": -540
    },
    "id": "IhxOOBe5rsPc",
    "jupyter": {
     "outputs_hidden": false
    },
    "outputId": "bddbc606-43cc-465f-fec3-b7c8e20a2a99"
   },
   "outputs": [
    {
     "name": "stdout",
     "output_type": "stream",
     "text": [
      "5\n",
      "50\n",
      "10\n",
      "150\n",
      "[10, 20, 30, 40, 50]\n"
     ]
    }
   ],
   "source": [
    "# functions & methods\n",
    "numbers = [20, 50, 10, 40, 30]\n",
    "\n",
    "# use len() to get the length of a list\n",
    "print(len(numbers))\n",
    "\n",
    "# use max() to get the maximum value of a list\n",
    "print(max(numbers))\n",
    "\n",
    "# use min() to get the minimum value of a list\n",
    "print(min(numbers))\n",
    "\n",
    "# use sum() to get the sum of all values in a list\n",
    "print(sum(numbers))\n",
    "\n",
    "# use list.sort() to sort a list\n",
    "numbers.sort()\n",
    "print(numbers)"
   ]
  },
  {
   "cell_type": "markdown",
   "metadata": {
    "id": "xmcvKsI4rsPd"
   },
   "source": [
    "* **Make list with for statement**"
   ]
  },
  {
   "cell_type": "code",
   "execution_count": 14,
   "metadata": {
    "colab": {
     "base_uri": "https://localhost:8080/"
    },
    "executionInfo": {
     "elapsed": 21,
     "status": "ok",
     "timestamp": 1741425503084,
     "user": {
      "displayName": "Jeongwoo Noh",
      "userId": "12349239094860728139"
     },
     "user_tz": -540
    },
    "id": "3U8hRZWjrsPd",
    "outputId": "17144496-b729-4e6f-bac6-69d852c9b55f"
   },
   "outputs": [
    {
     "name": "stdout",
     "output_type": "stream",
     "text": [
      "[0, 2, 4, 6, 8, 10, 12, 14, 16, 18, 20, 22, 24, 26, 28, 30, 32, 34, 36, 38, 40, 42, 44, 46, 48, 50, 52, 54, 56, 58, 60, 62, 64, 66, 68, 70, 72, 74, 76, 78, 80, 82, 84, 86, 88, 90, 92, 94, 96, 98, 100]\n"
     ]
    }
   ],
   "source": [
    "# make a list with all even numbers from 0 to 100 using for and range()\n",
    "even_numbers = []\n",
    "\n",
    "# use for to create even_numbers from [0, 1, 2, ... , 100]\n",
    "for i in range(101):\n",
    "    if i % 2 == 0:\n",
    "        even_numbers.append(i)\n",
    "\n",
    "print(even_numbers)"
   ]
  },
  {
   "cell_type": "markdown",
   "metadata": {
    "id": "BV_KWAPNrsPd"
   },
   "source": [
    "* **List comprehension** - offers a shorter syntax when you create a new list based on the values of an existing list"
   ]
  },
  {
   "cell_type": "code",
   "execution_count": 13,
   "metadata": {
    "colab": {
     "base_uri": "https://localhost:8080/"
    },
    "executionInfo": {
     "elapsed": 20,
     "status": "ok",
     "timestamp": 1741425499708,
     "user": {
      "displayName": "Jeongwoo Noh",
      "userId": "12349239094860728139"
     },
     "user_tz": -540
    },
    "id": "lLBesDEarsPd",
    "outputId": "813fbd1a-e425-41b9-a8fa-f1337cc1d929"
   },
   "outputs": [
    {
     "name": "stdout",
     "output_type": "stream",
     "text": [
      "[0, 2, 4, 6, 8, 10, 12, 14, 16, 18, 20, 22, 24, 26, 28, 30, 32, 34, 36, 38, 40, 42, 44, 46, 48, 50, 52, 54, 56, 58, 60, 62, 64, 66, 68, 70, 72, 74, 76, 78, 80, 82, 84, 86, 88, 90, 92, 94, 96, 98, 100]\n"
     ]
    }
   ],
   "source": [
    "# use list Comprehension to create even_numbers from [0, 1, 2, ... , 100]\n",
    "even_numbers = [i for i in range(101) if i % 2 == 0]\n",
    "\n",
    "print(even_numbers)"
   ]
  },
  {
   "cell_type": "markdown",
   "metadata": {
    "id": "moerwLsPrsPd"
   },
   "source": [
    "* **Nested list**"
   ]
  },
  {
   "cell_type": "code",
   "execution_count": 17,
   "metadata": {
    "colab": {
     "base_uri": "https://localhost:8080/"
    },
    "executionInfo": {
     "elapsed": 12,
     "status": "ok",
     "timestamp": 1741425604411,
     "user": {
      "displayName": "Jeongwoo Noh",
      "userId": "12349239094860728139"
     },
     "user_tz": -540
    },
    "id": "Y2my1HB3rsPd",
    "outputId": "85526dec-5285-44a3-a403-326329ba85e5"
   },
   "outputs": [
    {
     "name": "stdout",
     "output_type": "stream",
     "text": [
      "[[1, 3, 5, 7, 9], [0, 2, 4, 6, 8]]\n"
     ]
    }
   ],
   "source": [
    "# make nested list [[1, 3, 5, 7, 9], [0, 2, 4, 6, 8]]\n",
    "odd_numbers = [ i for i in range(10) if i % 2 == 1]\n",
    "even_numbers = [ i for i in range(10) if i % 2 == 0]\n",
    "\n",
    "nested_list = [odd_numbers, even_numbers]\n",
    "\n",
    "print(nested_list)"
   ]
  },
  {
   "cell_type": "code",
   "execution_count": 18,
   "metadata": {
    "colab": {
     "base_uri": "https://localhost:8080/"
    },
    "executionInfo": {
     "elapsed": 21,
     "status": "ok",
     "timestamp": 1741425606237,
     "user": {
      "displayName": "Jeongwoo Noh",
      "userId": "12349239094860728139"
     },
     "user_tz": -540
    },
    "id": "KmwfsqTYrsPd",
    "outputId": "c21f0970-a25a-47c8-fbda-2b6f12e9a742"
   },
   "outputs": [
    {
     "name": "stdout",
     "output_type": "stream",
     "text": [
      "[1, 3, 5, 7, 9]\n",
      "5\n"
     ]
    }
   ],
   "source": [
    "# index of nested list\n",
    "\n",
    "# print the first list\n",
    "print(nested_list[0])\n",
    "\n",
    "# print the second element of the first list\n",
    "print(nested_list[0][2])"
   ]
  },
  {
   "cell_type": "markdown",
   "metadata": {
    "id": "z-Pv3kfbrsPe"
   },
   "source": [
    "---"
   ]
  },
  {
   "cell_type": "markdown",
   "metadata": {
    "id": "vJCWi6WrrsPe"
   },
   "source": [
    "## Dictionary\n",
    "- **A dictionary is a data structure that stores unordered `<key : value>` pairs**\n",
    "    - It can be initialized as **{  key : value , key : value , …  }** or\n",
    "    - Make empty dictionary using **‘dict()’**, and then insert the new (key, value) pair\n",
    "    - List : items are **indexed by location(integer)**\n",
    "    - Dictionary : values are **indexed by keys**"
   ]
  },
  {
   "cell_type": "code",
   "execution_count": null,
   "metadata": {
    "id": "83-mz-sprsPe",
    "jupyter": {
     "outputs_hidden": false
    },
    "outputId": "2a3623a7-0349-4e33-c656-8bddae39e038"
   },
   "outputs": [
    {
     "name": "stdout",
     "output_type": "stream",
     "text": [
      "20\n"
     ]
    }
   ],
   "source": [
    "# list of 30 , 10 , 20\n",
    "num_list = [30, 10, 20]\n",
    "\n",
    "# print the 3rd element of the list\n",
    "print(num_list[2])"
   ]
  },
  {
   "cell_type": "code",
   "execution_count": 19,
   "metadata": {
    "colab": {
     "base_uri": "https://localhost:8080/"
    },
    "executionInfo": {
     "elapsed": 18,
     "status": "ok",
     "timestamp": 1741425837531,
     "user": {
      "displayName": "Jeongwoo Noh",
      "userId": "12349239094860728139"
     },
     "user_tz": -540
    },
    "id": "PooG7GAErsPe",
    "outputId": "ab2021a1-9476-48ca-fd40-a88edc6486c7"
   },
   "outputs": [
    {
     "name": "stdout",
     "output_type": "stream",
     "text": [
      "red is 30\n",
      "{'red': 30, 'blue': 10, 'yellow': 20, 'green': 5}\n"
     ]
    }
   ],
   "source": [
    "# dictionary of 'red' : 30 , 'blue' : 10 , 'yellow' : 20\n",
    "word_count = {'red' : 30, 'blue': 10, 'yellow' : 20}\n",
    "\n",
    "# print the value of the key 'red'\n",
    "print('red is', word_count['red'])\n",
    "\n",
    "# set the value of the key 'green' to 5\n",
    "word_count['green'] = 5\n",
    "\n",
    "print(word_count)"
   ]
  },
  {
   "cell_type": "markdown",
   "metadata": {
    "id": "NAuBK_i4rsPe"
   },
   "source": [
    "* **methods of dictionary**  "
   ]
  },
  {
   "cell_type": "markdown",
   "metadata": {
    "id": "cBz7uNs7rsPe"
   },
   "source": [
    "**1 .items()**"
   ]
  },
  {
   "cell_type": "code",
   "execution_count": null,
   "metadata": {
    "id": "Yd5IHvBdrsPe",
    "outputId": "6284b1f3-de55-44b4-8053-245ae81e03e8"
   },
   "outputs": [
    {
     "data": {
      "text/plain": [
       "dict_items([('red', 30), ('blue', 10), ('yellow', 20), ('green', 5)])"
      ]
     },
     "execution_count": 35,
     "metadata": {},
     "output_type": "execute_result"
    }
   ],
   "source": [
    "# use .items() to get a list of key-value pairs\n",
    "word_count.items()"
   ]
  },
  {
   "cell_type": "markdown",
   "metadata": {
    "id": "M6QT5e7CrsPe"
   },
   "source": [
    "**2. .keys()**"
   ]
  },
  {
   "cell_type": "code",
   "execution_count": null,
   "metadata": {
    "id": "HNMMSAJlrsPe",
    "outputId": "308a001f-2b23-419f-da1e-8f8d852e2f14"
   },
   "outputs": [
    {
     "data": {
      "text/plain": [
       "dict_keys(['red', 'blue', 'yellow', 'green'])"
      ]
     },
     "execution_count": 36,
     "metadata": {},
     "output_type": "execute_result"
    }
   ],
   "source": [
    "# use .keys() to get a list of keys\n",
    "word_count.keys()"
   ]
  },
  {
   "cell_type": "markdown",
   "metadata": {
    "id": "-gO39OhOrsPf"
   },
   "source": [
    "**3. .values()**"
   ]
  },
  {
   "cell_type": "code",
   "execution_count": 20,
   "metadata": {
    "colab": {
     "base_uri": "https://localhost:8080/"
    },
    "executionInfo": {
     "elapsed": 34,
     "status": "ok",
     "timestamp": 1741425864458,
     "user": {
      "displayName": "Jeongwoo Noh",
      "userId": "12349239094860728139"
     },
     "user_tz": -540
    },
    "id": "oxHabWU1rsPf",
    "outputId": "5d2a4413-f556-4b65-8f45-e41439e8ad43"
   },
   "outputs": [
    {
     "data": {
      "text/plain": [
       "dict_values([30, 10, 20, 5])"
      ]
     },
     "execution_count": 20,
     "metadata": {},
     "output_type": "execute_result"
    }
   ],
   "source": [
    "# use .values() to get a list of values\n",
    "word_count.values()"
   ]
  },
  {
   "cell_type": "markdown",
   "metadata": {
    "id": "JebD80GlrsPf"
   },
   "source": [
    "* **list vs. dictionary**"
   ]
  },
  {
   "cell_type": "code",
   "execution_count": null,
   "metadata": {
    "id": "sixKZWHXrsPf",
    "jupyter": {
     "outputs_hidden": false
    },
    "outputId": "08a70113-8e42-4418-f6d4-257849fcd812"
   },
   "outputs": [
    {
     "name": "stdout",
     "output_type": "stream",
     "text": [
      "[185, 78]\n",
      "185\n"
     ]
    }
   ],
   "source": [
    "# list\n",
    "# create a list and append 185 and 78 to the list\n",
    "lst = list()\n",
    "lst.append(185)\n",
    "lst.append(78)\n",
    "print(lst)\n",
    "\n",
    "# print the first element of the list\n",
    "print(lst[0])"
   ]
  },
  {
   "cell_type": "code",
   "execution_count": 21,
   "metadata": {
    "colab": {
     "base_uri": "https://localhost:8080/"
    },
    "executionInfo": {
     "elapsed": 21,
     "status": "ok",
     "timestamp": 1741432027540,
     "user": {
      "displayName": "Jeongwoo Noh",
      "userId": "12349239094860728139"
     },
     "user_tz": -540
    },
    "id": "FbUHxjl9rsPf",
    "outputId": "920c0fbc-8f87-4c4b-a697-8c28ad72e926"
   },
   "outputs": [
    {
     "name": "stdout",
     "output_type": "stream",
     "text": [
      "{'height': 185, 'weight': 78}\n",
      "185\n"
     ]
    }
   ],
   "source": [
    "# dictionary\n",
    "# create a dictionary and set height to 185 and weight to 78\n",
    "my_dict = dict()\n",
    "my_dict['height'] = 185\n",
    "my_dict['weight'] = 78\n",
    "print(my_dict)\n",
    "\n",
    "# print the value of the key 'height'\n",
    "print(my_dict['height'])"
   ]
  },
  {
   "cell_type": "markdown",
   "metadata": {
    "id": "IsBjsgefrsPf"
   },
   "source": [
    "* **Make dictionary with for statement**"
   ]
  },
  {
   "cell_type": "code",
   "execution_count": 22,
   "metadata": {
    "colab": {
     "base_uri": "https://localhost:8080/"
    },
    "executionInfo": {
     "elapsed": 16,
     "status": "ok",
     "timestamp": 1741432885930,
     "user": {
      "displayName": "Jeongwoo Noh",
      "userId": "12349239094860728139"
     },
     "user_tz": -540
    },
    "id": "6prtY54-rsPf",
    "outputId": "7f665b18-d2d3-490e-8cd3-c087b3c16fda"
   },
   "outputs": [
    {
     "name": "stdout",
     "output_type": "stream",
     "text": [
      "['Life', 'is', 'like', 'a', 'box', 'of', 'chocolates']\n",
      "{'Life': 0, 'is': 1, 'like': 2, 'a': 3, 'box': 4, 'of': 5, 'chocolates': 6}\n"
     ]
    }
   ],
   "source": [
    "# make 'vocab' dictionary from a sentence (1)\n",
    "# split the sentence into words\n",
    "vocab_list = \"Life is like a box of chocolates\".split(\" \")\n",
    "print(vocab_list)\n",
    "\n",
    "vocab = {}\n",
    "\n",
    "# make 'vocab' dictionary from a sentence using enumerate\n",
    "for k, v in enumerate(vocab_list):\n",
    "    vocab[v] = k\n",
    "print(vocab)"
   ]
  },
  {
   "cell_type": "markdown",
   "metadata": {
    "id": "xiYeKYCTrsPg"
   },
   "source": [
    "* **Dictionary comprehension**"
   ]
  },
  {
   "cell_type": "code",
   "execution_count": 23,
   "metadata": {
    "colab": {
     "base_uri": "https://localhost:8080/"
    },
    "executionInfo": {
     "elapsed": 16,
     "status": "ok",
     "timestamp": 1741432894387,
     "user": {
      "displayName": "Jeongwoo Noh",
      "userId": "12349239094860728139"
     },
     "user_tz": -540
    },
    "id": "_AzpaDG1rsPg",
    "outputId": "3076ae96-22a3-4e3c-ecf8-25c6f1bef2aa"
   },
   "outputs": [
    {
     "name": "stdout",
     "output_type": "stream",
     "text": [
      "{0: 'Life', 1: 'is', 2: 'like', 3: 'a', 4: 'box', 5: 'of', 6: 'chocolates'}\n"
     ]
    }
   ],
   "source": [
    "# make 'vocab' dictionary from a sentence (2)\n",
    "vocab = { k : v for k, v in enumerate(vocab_list)}\n",
    "print(vocab)"
   ]
  },
  {
   "cell_type": "markdown",
   "metadata": {
    "id": "Pp2W3kPWrsPg"
   },
   "source": [
    "---"
   ]
  },
  {
   "cell_type": "markdown",
   "metadata": {
    "id": "Bf6EcRWFrsPg"
   },
   "source": [
    "## Tuple\n",
    "- A tuple is a collection of items which is ordered and **unchangeable**.\n",
    "  - It is more simple and efficient because the tuple is saved with the condition not to be changed in the future\n",
    "  - ‘items()’ method of dictionary returns list of **(key, value)** tuples"
   ]
  },
  {
   "cell_type": "code",
   "execution_count": null,
   "metadata": {
    "id": "dHux5ou7rsPg",
    "jupyter": {
     "outputs_hidden": false
    },
    "outputId": "e549a114-092b-465a-f152-61a3c4844d7a"
   },
   "outputs": [
    {
     "name": "stdout",
     "output_type": "stream",
     "text": [
      "(20, 30)\n",
      "(20,)\n"
     ]
    }
   ],
   "source": [
    "# tuple\n",
    "x = (20, 30)\n",
    "y = (20,)\n",
    "\n",
    "print(x)\n",
    "print(y)"
   ]
  },
  {
   "cell_type": "code",
   "execution_count": 25,
   "metadata": {
    "colab": {
     "base_uri": "https://localhost:8080/"
    },
    "executionInfo": {
     "elapsed": 8,
     "status": "ok",
     "timestamp": 1741434834169,
     "user": {
      "displayName": "Jeongwoo Noh",
      "userId": "12349239094860728139"
     },
     "user_tz": -540
    },
    "id": "dNluTkX0rsPg",
    "outputId": "2926a698-ca23-4c6d-916b-edadc4b81b2b"
   },
   "outputs": [
    {
     "name": "stdout",
     "output_type": "stream",
     "text": [
      "{'tom': 1234, 'john': 5678}\n",
      "tom 1234\n",
      "john 5678\n"
     ]
    }
   ],
   "source": [
    "# tuple and dictionary\n",
    "ids = dict()\n",
    "\n",
    "# set the value of the key 'tom' to 1234\n",
    "ids['tom'] = 1234\n",
    "# set the value of the key 'john' to 5678\n",
    "ids['john'] = 5678\n",
    "\n",
    "# print dictionary ids\n",
    "print(ids)\n",
    "\n",
    "# print all keys and values in ids using .items()\n",
    "for (key, val) in ids.items():\n",
    "    print(key, val)"
   ]
  },
  {
   "cell_type": "markdown",
   "metadata": {
    "id": "VQVceuMlrsPg"
   },
   "source": [
    "---"
   ]
  },
  {
   "cell_type": "markdown",
   "metadata": {
    "id": "o6omqaI2rsPg"
   },
   "source": [
    "## Set\n",
    "- A set is an unordered collection of items with no duplicates\n",
    "   - It can be initialized as **{  item1, item2, …  }** or\n",
    "   - It can be defined by the function **‘set()’**"
   ]
  },
  {
   "cell_type": "code",
   "execution_count": 26,
   "metadata": {
    "colab": {
     "base_uri": "https://localhost:8080/"
    },
    "executionInfo": {
     "elapsed": 60,
     "status": "ok",
     "timestamp": 1741434902991,
     "user": {
      "displayName": "Jeongwoo Noh",
      "userId": "12349239094860728139"
     },
     "user_tz": -540
    },
    "id": "CWdtvRZ1rsPg",
    "jupyter": {
     "outputs_hidden": false
    },
    "outputId": "91381be2-d52d-4fb9-d954-8b87533dd8c8"
   },
   "outputs": [
    {
     "name": "stdout",
     "output_type": "stream",
     "text": [
      "{1, 2, 3}\n",
      "{1, 2, 3}\n"
     ]
    }
   ],
   "source": [
    "# set\n",
    "# create a set s containing 1, 2, and 3\n",
    "s = {1, 2, 3}\n",
    "print(s)\n",
    "\n",
    "# set ignores duplicates\n",
    "# create a list containing duplicates\n",
    "lst = [1, 2, 2, 2, 3, 3, 1]\n",
    "\n",
    "# create a set from the list\n",
    "s = set(lst)\n",
    "print(s)"
   ]
  },
  {
   "cell_type": "markdown",
   "metadata": {
    "id": "VJYijwpQrsPh"
   },
   "source": [
    "- Set operations : **&, intersection(), |, union(), -, difference()**"
   ]
  },
  {
   "cell_type": "code",
   "execution_count": 27,
   "metadata": {
    "colab": {
     "base_uri": "https://localhost:8080/"
    },
    "executionInfo": {
     "elapsed": 23,
     "status": "ok",
     "timestamp": 1741434973544,
     "user": {
      "displayName": "Jeongwoo Noh",
      "userId": "12349239094860728139"
     },
     "user_tz": -540
    },
    "id": "9XEoQ43ursPh",
    "jupyter": {
     "outputs_hidden": false
    },
    "outputId": "11b56e72-816a-4f24-884c-1f5cb0cc88cb"
   },
   "outputs": [
    {
     "name": "stdout",
     "output_type": "stream",
     "text": [
      "{2, 4}\n",
      "{2, 4}\n",
      "{1, 2, 3, 4, 6, 8}\n",
      "{1, 2, 3, 4, 6, 8}\n",
      "{1, 3}\n",
      "{1, 3}\n"
     ]
    }
   ],
   "source": [
    "# intersection, union, difference\n",
    "set1 = set([1, 2, 3, 4])\n",
    "set2 = set([2, 4, 6, 8])\n",
    "\n",
    "# intersection\n",
    " # using &\n",
    "print(set1 & set2)\n",
    " # using intersection function\n",
    "print(set1.intersection(set2))\n",
    "\n",
    "# union\n",
    " # using |\n",
    "print(set1 | set2)\n",
    " # using union function\n",
    "print(set1.union(set2))\n",
    "\n",
    "# difference\n",
    " # using using -\n",
    "print(set1-set2)\n",
    " # using difference function\n",
    "print(set1.difference(set2))"
   ]
  },
  {
   "cell_type": "markdown",
   "metadata": {
    "id": "yYVb6n84rsPh"
   },
   "source": [
    "---"
   ]
  },
  {
   "cell_type": "markdown",
   "metadata": {
    "id": "wixucleorsPh"
   },
   "source": [
    "# File processing"
   ]
  },
  {
   "cell_type": "markdown",
   "metadata": {
    "id": "Sjj66HeRrsPh"
   },
   "source": [
    "- **Opening the file**\n",
    "  - open() – it returns the handle used to manipulate the file\n",
    "  - The file handle is a sequence of each line of the file"
   ]
  },
  {
   "cell_type": "code",
   "execution_count": null,
   "metadata": {
    "id": "UvV9V7xmrsPh",
    "jupyter": {
     "outputs_hidden": false
    },
    "outputId": "b6262f66-13c8-490f-df4a-185dbc073173"
   },
   "outputs": [
    {
     "name": "stdout",
     "output_type": "stream",
     "text": [
      "total line : 7\n"
     ]
    }
   ],
   "source": [
    "# open 'sample.txt' file and count lines\n",
    "fhand = open('sample.txt', 'r')\n",
    "\n",
    "# use for loop to count lines\n",
    "count = 0\n",
    "for line in fhand:\n",
    "    count += 1\n",
    "\n",
    "# use .close() to close the file\n",
    "fhand.close()\n",
    "\n",
    "print('total line :', count)"
   ]
  },
  {
   "cell_type": "markdown",
   "metadata": {
    "id": "QBjS3ZiFrsPh"
   },
   "source": [
    "- **Read all contents of the file**\n",
    "  - .read() – it reads all contents in the file and returns it as a sequence of a string"
   ]
  },
  {
   "cell_type": "code",
   "execution_count": null,
   "metadata": {
    "id": "4CTMVds_rsPh",
    "jupyter": {
     "outputs_hidden": false
    },
    "outputId": "2912db3a-886f-4411-de47-7a92158ea7cb"
   },
   "outputs": [
    {
     "name": "stdout",
     "output_type": "stream",
     "text": [
      "Python is a high-level, general-purpose programming language. Its design philosophy emphasizes code readability with the use of significant indentation.[33]\n",
      "\n",
      "Python is dynamically typed and garbage-collected. It supports multiple programming paradigms, including structured (particularly procedural), object-oriented and functional programming. It is often described as a \"batteries included\" language due to its comprehensive standard library.[34][35]\n",
      "\n",
      "Guido van Rossum began working on Python in the late 1980s as a successor to the ABC programming language and first released it in 1991 as Python 0.9.0.[36] Python 2.0 was released in 2000. Python 3.0, released in 2008, was a major revision not completely backward-compatible with earlier versions. Python 2.7.18, released in 2020, was the last release of Python 2.[37]\n",
      "\n",
      "Python consistently ranks as one of the most popular programming languages.[38][39][40][41]\n",
      "\n",
      " *** length of the file = 916\n"
     ]
    }
   ],
   "source": [
    "# open & close\n",
    "fhand = open(\"sample.txt\")\n",
    "\n",
    "# use .read() to read the file\n",
    "mfile = fhand.read()\n",
    "\n",
    "# print the file\n",
    "print(mfile)\n",
    "\n",
    "# use len() to print the length of the file\n",
    "print('\\n *** length of the file =', len(mfile))\n",
    "\n",
    "# close the file\n",
    "fhand.close()"
   ]
  },
  {
   "cell_type": "markdown",
   "metadata": {
    "id": "NW_KfGCFrsPi"
   },
   "source": [
    "---"
   ]
  },
  {
   "cell_type": "markdown",
   "metadata": {
    "id": "ZwM-Qt_9rsPi"
   },
   "source": [
    "# Class\n",
    "- **Object = Attribute + Method**\n",
    "  - Classes provide a means of bundling data and functionality together\n",
    "  - Creating a new class creates a new type of object, allowing new instances of that type to be made\n",
    "  - Class, Object and Instance : https://alfredjava.wordpress.com/2008/07/08/class-vs-object-vs-instance/"
   ]
  },
  {
   "cell_type": "markdown",
   "metadata": {
    "id": "aKDib4NlrsPi"
   },
   "source": [
    "* **Creating a class**"
   ]
  },
  {
   "cell_type": "code",
   "execution_count": 29,
   "metadata": {
    "executionInfo": {
     "elapsed": 39,
     "status": "ok",
     "timestamp": 1741435442506,
     "user": {
      "displayName": "Jeongwoo Noh",
      "userId": "12349239094860728139"
     },
     "user_tz": -540
    },
    "id": "mR0eb5fVrsPi",
    "jupyter": {
     "outputs_hidden": false
    }
   },
   "outputs": [],
   "source": [
    "# define a class named 'Car'\n",
    "\n",
    "class Car:\n",
    "    # define constructor with brand, year and current_speed as parameters\n",
    "    def __init__(self, brand, year, current_speed):\n",
    "        self.brand = brand\n",
    "        self.year = year\n",
    "        self.current_speed = current_speed\n",
    "\n",
    "    # define a method accelate() to increase the current_speed by 10\n",
    "    def accelate(self):\n",
    "        self.current_speed += 10\n",
    "        return self.current_speed"
   ]
  },
  {
   "cell_type": "markdown",
   "metadata": {
    "id": "Hi8PUPEhrsPi"
   },
   "source": [
    "* **Creating objects**"
   ]
  },
  {
   "cell_type": "code",
   "execution_count": 30,
   "metadata": {
    "executionInfo": {
     "elapsed": 60,
     "status": "ok",
     "timestamp": 1741435472025,
     "user": {
      "displayName": "Jeongwoo Noh",
      "userId": "12349239094860728139"
     },
     "user_tz": -540
    },
    "id": "AqAKEsy-rsPi",
    "jupyter": {
     "outputs_hidden": false
    }
   },
   "outputs": [],
   "source": [
    "# make 'car1', 'car2' objects\n",
    "\n",
    "# create car1 with brand 'Toyota', year '1995', current_speed '100'\n",
    "car1 = Car('Toyota', 1995, 100)\n",
    "\n",
    "# create car2 with brand 'Hyundai', year '2000', current_speed '120'\n",
    "car2 = Car('hyundai', 2000, 120)"
   ]
  },
  {
   "cell_type": "markdown",
   "metadata": {
    "id": "ohdbM3hgrsPi"
   },
   "source": [
    "* **Attributes & methods**"
   ]
  },
  {
   "cell_type": "code",
   "execution_count": 31,
   "metadata": {
    "colab": {
     "base_uri": "https://localhost:8080/"
    },
    "executionInfo": {
     "elapsed": 9,
     "status": "ok",
     "timestamp": 1741435495762,
     "user": {
      "displayName": "Jeongwoo Noh",
      "userId": "12349239094860728139"
     },
     "user_tz": -540
    },
    "id": "cTwIgrjJrsPi",
    "outputId": "2786b804-6734-4301-9170-e57a69c25c2e"
   },
   "outputs": [
    {
     "name": "stdout",
     "output_type": "stream",
     "text": [
      "Toyota\n",
      "100\n",
      "110\n"
     ]
    }
   ],
   "source": [
    "# print attributes, execute the method\n",
    "\n",
    "# print car1 brand\n",
    "print(car1.brand)\n",
    "\n",
    "# print car1 current_speed\n",
    "print(car1.current_speed)\n",
    "\n",
    "# accelerate car1\n",
    "car1.accelate()\n",
    "\n",
    "# print car1 current_speed\n",
    "print(car1.current_speed)"
   ]
  },
  {
   "cell_type": "markdown",
   "metadata": {
    "id": "KvTA_AQursPj"
   },
   "source": [
    "---"
   ]
  },
  {
   "cell_type": "markdown",
   "metadata": {
    "id": "zgHjW2eirsPj"
   },
   "source": [
    "---"
   ]
  },
  {
   "cell_type": "markdown",
   "metadata": {
    "id": "Oyfu3isprsPj"
   },
   "source": [
    "# Quiz"
   ]
  },
  {
   "cell_type": "markdown",
   "metadata": {
    "id": "wFQMWWt4rsPj"
   },
   "source": [
    "### 1. input, while, if\n",
    "- Write a program that continuously inputs numbers(positive integers), and outputs the counts, total, and average of the integers.\n",
    "  - use while() and input()\n",
    "- The program ends when the input is 0.\n",
    "  - use if and break"
   ]
  },
  {
   "cell_type": "code",
   "execution_count": 32,
   "metadata": {
    "colab": {
     "base_uri": "https://localhost:8080/"
    },
    "executionInfo": {
     "elapsed": 9111,
     "status": "ok",
     "timestamp": 1741435673719,
     "user": {
      "displayName": "Jeongwoo Noh",
      "userId": "12349239094860728139"
     },
     "user_tz": -540
    },
    "id": "w2qWn8qirsPj",
    "jupyter": {
     "outputs_hidden": false
    },
    "outputId": "7b870a48-8e53-4f48-aab0-cbdcda955992"
   },
   "outputs": [
    {
     "name": "stdout",
     "output_type": "stream",
     "text": [
      "Enter a number : 3\n",
      "Enter a number : 5\n",
      "Enter a number : 3\n",
      "Enter a number : 5\n",
      "Enter a number : 0\n",
      "Count =  4\n",
      "Total =  16\n",
      "Average =  4.0\n"
     ]
    }
   ],
   "source": [
    "count = 0\n",
    "total = 0\n",
    "\n",
    "############ Start of your code ############\n",
    "while(True):\n",
    "  a = int(input('Enter a number : '))\n",
    "  if a == 0:\n",
    "    break\n",
    "  count += 1\n",
    "  total += a\n",
    "############# End of your code #############\n",
    "\n",
    "print(\"Count = \", count)\n",
    "print(\"Total = \", total)\n",
    "print(\"Average = \", total/count)\n"
   ]
  },
  {
   "cell_type": "markdown",
   "metadata": {
    "id": "XK5CS1ZSrsPj"
   },
   "source": [
    "---"
   ]
  },
  {
   "cell_type": "markdown",
   "metadata": {
    "id": "G3rPqclzrsPj"
   },
   "source": [
    "### 2. function, for, list\n",
    "- The temperature (temp) and iced americano sales (sale) have the following relation\n",
    "> `sale = 30.08 * temp - 159.47`  \n",
    "- Define a function 'predict' to compute above equation\n",
    "- For following list of temps for the next 10 days, make the list of sales(integers) for the next 10 days\n",
    "  - use for and .append()\n",
    "- Print the sales and average of them"
   ]
  },
  {
   "cell_type": "code",
   "execution_count": 33,
   "metadata": {
    "colab": {
     "base_uri": "https://localhost:8080/"
    },
    "executionInfo": {
     "elapsed": 47,
     "status": "ok",
     "timestamp": 1741435924818,
     "user": {
      "displayName": "Jeongwoo Noh",
      "userId": "12349239094860728139"
     },
     "user_tz": -540
    },
    "id": "l1SPmq-5rsPj",
    "outputId": "4c605062-bd2c-405e-9860-b84a76651c31"
   },
   "outputs": [
    {
     "name": "stdout",
     "output_type": "stream",
     "text": [
      "Sales prediction =  [198, 267, 297, 333, 357, 384, 397, 424, 505, 520]\n",
      "Average =  368.2\n"
     ]
    }
   ],
   "source": [
    "temps = [11.9, 14.2, 15.2, 16.4, 17.2, 18.1, 18.5, 19.4, 22.1, 22.6]\n",
    "\n",
    "############ Start of your code ############\n",
    "def predict(temp):\n",
    "  return int(30.08 * temp - 159.47)\n",
    "\n",
    "sales = list()\n",
    "\n",
    "for i in temps:\n",
    "  sales.append(predict(i))\n",
    "\n",
    "############# End of your code #############\n",
    "\n",
    "print('Sales prediction = ', sales)\n",
    "print('Average = ', sum(sales)/len(sales))\n"
   ]
  },
  {
   "cell_type": "markdown",
   "metadata": {
    "id": "KgvytG0ArsPk"
   },
   "source": [
    "---"
   ]
  },
  {
   "cell_type": "markdown",
   "metadata": {
    "id": "Tx82RhMLrsPk"
   },
   "source": [
    "### 3. dictionary  \n",
    "- Change the scores in following dictionary into 'P' (if score >= 70) or 'F' and print the result\n",
    "  - use for and if"
   ]
  },
  {
   "cell_type": "code",
   "execution_count": 34,
   "metadata": {
    "colab": {
     "base_uri": "https://localhost:8080/"
    },
    "executionInfo": {
     "elapsed": 20,
     "status": "ok",
     "timestamp": 1741436303737,
     "user": {
      "displayName": "Jeongwoo Noh",
      "userId": "12349239094860728139"
     },
     "user_tz": -540
    },
    "id": "aJSC0ZOWrsPk",
    "outputId": "14b6376f-a7a9-4e7c-8a25-dd54c2b27bbb"
   },
   "outputs": [
    {
     "name": "stdout",
     "output_type": "stream",
     "text": [
      "Scores = {'Tom': 'F', 'Jane': 'P', 'Bill': 'P', 'Mary': 'F'}\n"
     ]
    }
   ],
   "source": [
    "scores = {\n",
    "    'Tom':60,\n",
    "    'Jane':95,\n",
    "    'Bill':80,\n",
    "    'Mary':55\n",
    "}\n",
    "\n",
    "############ Start of your code ############\n",
    "def grade(score):\n",
    "  if score >= 70:\n",
    "    return 'P'\n",
    "  else:\n",
    "    return 'F'\n",
    "\n",
    "for k, v in scores.items():\n",
    "  scores[k] = grade(v)\n",
    "\n",
    "############# End of your code #############\n",
    "\n",
    "print('Scores =', scores)"
   ]
  },
  {
   "cell_type": "markdown",
   "metadata": {
    "id": "DKeFZKYOrsPk"
   },
   "source": [
    "---"
   ]
  },
  {
   "cell_type": "markdown",
   "metadata": {
    "id": "pOqOc0gFrsPk"
   },
   "source": [
    "### 4. class\n",
    "- Create a 'Circle' class that has an attribute 'radius', and a method 'area()' that computes the area of the circle\n",
    "- Create a 'Rectangle' class that has attributes 'width' and 'height', and a method 'area()' that computes the area of the rectangle\n",
    "- Create an instance for each class, and print out the area of each instance.\n",
    "- Set 𝜋 to 3.14."
   ]
  },
  {
   "cell_type": "code",
   "execution_count": 39,
   "metadata": {
    "executionInfo": {
     "elapsed": 10,
     "status": "ok",
     "timestamp": 1741436538732,
     "user": {
      "displayName": "Jeongwoo Noh",
      "userId": "12349239094860728139"
     },
     "user_tz": -540
    },
    "id": "X5Q8hlyprsPk"
   },
   "outputs": [],
   "source": [
    "############ Start of your code ############\n",
    "# make Circle class\n",
    "class Circle:\n",
    "  def __init__(self, radius):\n",
    "    self.radius = radius\n",
    "\n",
    "  def area(self):\n",
    "    return self.radius**2 * 3.14\n",
    "\n",
    "# make Rectangle class\n",
    "class Rectangle:\n",
    "  def __init__(self, width, height):\n",
    "    self.width = width\n",
    "    self.height = height\n",
    "\n",
    "  def area(self):\n",
    "    return self.width * self.height\n",
    "\n",
    "############# End of your code #############\n",
    "\n",
    "circle1 = Circle(10)\n",
    "rectangle1 = Rectangle(20, 30)"
   ]
  },
  {
   "cell_type": "code",
   "execution_count": 38,
   "metadata": {
    "colab": {
     "base_uri": "https://localhost:8080/"
    },
    "executionInfo": {
     "elapsed": 22,
     "status": "ok",
     "timestamp": 1741436532487,
     "user": {
      "displayName": "Jeongwoo Noh",
      "userId": "12349239094860728139"
     },
     "user_tz": -540
    },
    "id": "VYwBuNNyrsPk",
    "jupyter": {
     "outputs_hidden": false
    },
    "outputId": "c3a91a1c-2e6c-49b9-9b8b-cb187a3615a1"
   },
   "outputs": [
    {
     "name": "stdout",
     "output_type": "stream",
     "text": [
      "Area of circle1 = 314.0\n",
      "Area of retangle1 = 600\n"
     ]
    }
   ],
   "source": [
    "print('Area of circle1 =', circle1.area())\n",
    "print('Area of retangle1 =', rectangle1.area())"
   ]
  },
  {
   "cell_type": "code",
   "execution_count": null,
   "metadata": {
    "id": "_PFmmziRrsPl"
   },
   "outputs": [],
   "source": []
  }
 ],
 "metadata": {
  "colab": {
   "provenance": []
  },
  "kernelspec": {
   "display_name": "Python 3",
   "language": "python",
   "name": "python3"
  },
  "language_info": {
   "codemirror_mode": {
    "name": "ipython",
    "version": 3
   },
   "file_extension": ".py",
   "mimetype": "text/x-python",
   "name": "python",
   "nbconvert_exporter": "python",
   "pygments_lexer": "ipython3",
   "version": "3.12.6"
  }
 },
 "nbformat": 4,
 "nbformat_minor": 0
}
